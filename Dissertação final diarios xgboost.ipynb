{
 "cells": [
  {
   "cell_type": "markdown",
   "metadata": {},
   "source": [
    "## Xgboost"
   ]
  },
  {
   "cell_type": "code",
   "execution_count": 1,
   "metadata": {},
   "outputs": [],
   "source": [
    "import pandas as pd\n",
    "import numpy as np"
   ]
  },
  {
   "cell_type": "code",
   "execution_count": 2,
   "metadata": {},
   "outputs": [],
   "source": [
    "df = pd.read_excel('Time series jason brownlee.xlsx')\n",
    "df.set_index('Timestamp',inplace=True)\n",
    "df = df.rename(columns={'BAIRRO ALTO -  / FREQ B1': 'FREQUENCIA BOMBA 1', 'BAIRRO ALTO -  / FREQ B2': 'FREQUENCIA BOMBA 2','BAIRRO ALTO -  / FREQ B3':'FREQUENCIA BOMBA 3','BAIRRO ALTO - LT01 / NÍVEL':'NIVEL DO RESERVATÓRIO - LT01','BAIRRO ALTO - FT01 / ENT IRAI':'VAZÃO DE ENTRADA- FT01','BAIRRO ALTO - FT02 / GBAL':'VAZÃO DE GRAVIDADE - FT02','BAIRRO ALTO - FT03 / RBAL':'VAZÃO DE RECALQUE - FT03','BAIRRO ALTO - PT01 / SUCÇÃO':'PRESSÃO DE SUCÇÃO - PT01','BAIRRO ALTO - PT02 / RBAL':'PRESSÃO DE RECALQUE - PT02'})\n",
    "df.replace(to_replace='Bad', value=np.nan, inplace=True)\n",
    "df.interpolate(inplace=True)\n",
    "df = df.resample('24H').mean().reset_index()"
   ]
  },
  {
   "cell_type": "code",
   "execution_count": 3,
   "metadata": {},
   "outputs": [
    {
     "data": {
      "text/html": [
       "<div>\n",
       "<style scoped>\n",
       "    .dataframe tbody tr th:only-of-type {\n",
       "        vertical-align: middle;\n",
       "    }\n",
       "\n",
       "    .dataframe tbody tr th {\n",
       "        vertical-align: top;\n",
       "    }\n",
       "\n",
       "    .dataframe thead th {\n",
       "        text-align: right;\n",
       "    }\n",
       "</style>\n",
       "<table border=\"1\" class=\"dataframe\">\n",
       "  <thead>\n",
       "    <tr style=\"text-align: right;\">\n",
       "      <th></th>\n",
       "      <th>FREQUENCIA BOMBA 1</th>\n",
       "      <th>FREQUENCIA BOMBA 2</th>\n",
       "      <th>FREQUENCIA BOMBA 3</th>\n",
       "      <th>NIVEL DO RESERVATÓRIO - LT01</th>\n",
       "      <th>VAZÃO DE ENTRADA- FT01</th>\n",
       "      <th>VAZÃO DE GRAVIDADE - FT02</th>\n",
       "      <th>VAZÃO DE RECALQUE - FT03</th>\n",
       "      <th>PRESSÃO DE SUCÇÃO - PT01</th>\n",
       "      <th>PRESSÃO DE RECALQUE - PT02</th>\n",
       "    </tr>\n",
       "    <tr>\n",
       "      <th>Timestamp</th>\n",
       "      <th></th>\n",
       "      <th></th>\n",
       "      <th></th>\n",
       "      <th></th>\n",
       "      <th></th>\n",
       "      <th></th>\n",
       "      <th></th>\n",
       "      <th></th>\n",
       "      <th></th>\n",
       "    </tr>\n",
       "  </thead>\n",
       "  <tbody>\n",
       "    <tr>\n",
       "      <th>2018-01-01</th>\n",
       "      <td>45.727617</td>\n",
       "      <td>0.916126</td>\n",
       "      <td>0.000000</td>\n",
       "      <td>4.085868</td>\n",
       "      <td>164.094190</td>\n",
       "      <td>96.566326</td>\n",
       "      <td>78.387204</td>\n",
       "      <td>5.195563</td>\n",
       "      <td>16.064507</td>\n",
       "    </tr>\n",
       "    <tr>\n",
       "      <th>2018-01-02</th>\n",
       "      <td>47.239316</td>\n",
       "      <td>0.000000</td>\n",
       "      <td>0.000000</td>\n",
       "      <td>3.942272</td>\n",
       "      <td>181.728099</td>\n",
       "      <td>112.688852</td>\n",
       "      <td>84.923583</td>\n",
       "      <td>5.017492</td>\n",
       "      <td>15.573998</td>\n",
       "    </tr>\n",
       "    <tr>\n",
       "      <th>2018-01-03</th>\n",
       "      <td>48.112157</td>\n",
       "      <td>0.000000</td>\n",
       "      <td>0.000000</td>\n",
       "      <td>3.883783</td>\n",
       "      <td>193.140774</td>\n",
       "      <td>113.665250</td>\n",
       "      <td>87.072110</td>\n",
       "      <td>4.949791</td>\n",
       "      <td>15.761076</td>\n",
       "    </tr>\n",
       "    <tr>\n",
       "      <th>2018-01-04</th>\n",
       "      <td>49.869415</td>\n",
       "      <td>2.681982</td>\n",
       "      <td>0.000000</td>\n",
       "      <td>3.912685</td>\n",
       "      <td>184.679417</td>\n",
       "      <td>118.076269</td>\n",
       "      <td>90.388552</td>\n",
       "      <td>4.961430</td>\n",
       "      <td>16.897601</td>\n",
       "    </tr>\n",
       "    <tr>\n",
       "      <th>2018-01-05</th>\n",
       "      <td>37.037886</td>\n",
       "      <td>19.499752</td>\n",
       "      <td>8.569013</td>\n",
       "      <td>3.389542</td>\n",
       "      <td>211.898758</td>\n",
       "      <td>125.748680</td>\n",
       "      <td>91.432063</td>\n",
       "      <td>4.431274</td>\n",
       "      <td>17.123912</td>\n",
       "    </tr>\n",
       "  </tbody>\n",
       "</table>\n",
       "</div>"
      ],
      "text/plain": [
       "            FREQUENCIA BOMBA 1  FREQUENCIA BOMBA 2  FREQUENCIA BOMBA 3  \\\n",
       "Timestamp                                                                \n",
       "2018-01-01           45.727617            0.916126            0.000000   \n",
       "2018-01-02           47.239316            0.000000            0.000000   \n",
       "2018-01-03           48.112157            0.000000            0.000000   \n",
       "2018-01-04           49.869415            2.681982            0.000000   \n",
       "2018-01-05           37.037886           19.499752            8.569013   \n",
       "\n",
       "            NIVEL DO RESERVATÓRIO - LT01  VAZÃO DE ENTRADA- FT01  \\\n",
       "Timestamp                                                          \n",
       "2018-01-01                      4.085868              164.094190   \n",
       "2018-01-02                      3.942272              181.728099   \n",
       "2018-01-03                      3.883783              193.140774   \n",
       "2018-01-04                      3.912685              184.679417   \n",
       "2018-01-05                      3.389542              211.898758   \n",
       "\n",
       "            VAZÃO DE GRAVIDADE - FT02  VAZÃO DE RECALQUE - FT03  \\\n",
       "Timestamp                                                         \n",
       "2018-01-01                  96.566326                 78.387204   \n",
       "2018-01-02                 112.688852                 84.923583   \n",
       "2018-01-03                 113.665250                 87.072110   \n",
       "2018-01-04                 118.076269                 90.388552   \n",
       "2018-01-05                 125.748680                 91.432063   \n",
       "\n",
       "            PRESSÃO DE SUCÇÃO - PT01  PRESSÃO DE RECALQUE - PT02  \n",
       "Timestamp                                                         \n",
       "2018-01-01                  5.195563                   16.064507  \n",
       "2018-01-02                  5.017492                   15.573998  \n",
       "2018-01-03                  4.949791                   15.761076  \n",
       "2018-01-04                  4.961430                   16.897601  \n",
       "2018-01-05                  4.431274                   17.123912  "
      ]
     },
     "execution_count": 3,
     "metadata": {},
     "output_type": "execute_result"
    }
   ],
   "source": [
    "df.set_index('Timestamp',inplace=True)\n",
    "df.head()"
   ]
  },
  {
   "cell_type": "code",
   "execution_count": 4,
   "metadata": {},
   "outputs": [],
   "source": [
    "# definindo 1 passo à frente\n",
    "test_size = int(df.shape[0] * 0.3)\n",
    "steps_ahead1 = 1\n",
    "lags = 3"
   ]
  },
  {
   "cell_type": "code",
   "execution_count": 5,
   "metadata": {},
   "outputs": [],
   "source": [
    "colunas = df.columns\n",
    "\n",
    "for lag in range(1, lags):\n",
    "    for column in colunas:\n",
    "        df[column + '_t-' + str(lag)] = df[column].shift(lag)"
   ]
  },
  {
   "cell_type": "code",
   "execution_count": 6,
   "metadata": {},
   "outputs": [
    {
     "data": {
      "text/html": [
       "<div>\n",
       "<style scoped>\n",
       "    .dataframe tbody tr th:only-of-type {\n",
       "        vertical-align: middle;\n",
       "    }\n",
       "\n",
       "    .dataframe tbody tr th {\n",
       "        vertical-align: top;\n",
       "    }\n",
       "\n",
       "    .dataframe thead th {\n",
       "        text-align: right;\n",
       "    }\n",
       "</style>\n",
       "<table border=\"1\" class=\"dataframe\">\n",
       "  <thead>\n",
       "    <tr style=\"text-align: right;\">\n",
       "      <th></th>\n",
       "      <th>FREQUENCIA BOMBA 1</th>\n",
       "      <th>FREQUENCIA BOMBA 2</th>\n",
       "      <th>FREQUENCIA BOMBA 3</th>\n",
       "      <th>NIVEL DO RESERVATÓRIO - LT01</th>\n",
       "      <th>VAZÃO DE ENTRADA- FT01</th>\n",
       "      <th>VAZÃO DE GRAVIDADE - FT02</th>\n",
       "      <th>VAZÃO DE RECALQUE - FT03</th>\n",
       "      <th>PRESSÃO DE SUCÇÃO - PT01</th>\n",
       "      <th>PRESSÃO DE RECALQUE - PT02</th>\n",
       "      <th>FREQUENCIA BOMBA 1_t-1</th>\n",
       "      <th>...</th>\n",
       "      <th>FREQUENCIA BOMBA 1_t-2</th>\n",
       "      <th>FREQUENCIA BOMBA 2_t-2</th>\n",
       "      <th>FREQUENCIA BOMBA 3_t-2</th>\n",
       "      <th>NIVEL DO RESERVATÓRIO - LT01_t-2</th>\n",
       "      <th>VAZÃO DE ENTRADA- FT01_t-2</th>\n",
       "      <th>VAZÃO DE GRAVIDADE - FT02_t-2</th>\n",
       "      <th>VAZÃO DE RECALQUE - FT03_t-2</th>\n",
       "      <th>PRESSÃO DE SUCÇÃO - PT01_t-2</th>\n",
       "      <th>PRESSÃO DE RECALQUE - PT02_t-2</th>\n",
       "      <th>y</th>\n",
       "    </tr>\n",
       "    <tr>\n",
       "      <th>Timestamp</th>\n",
       "      <th></th>\n",
       "      <th></th>\n",
       "      <th></th>\n",
       "      <th></th>\n",
       "      <th></th>\n",
       "      <th></th>\n",
       "      <th></th>\n",
       "      <th></th>\n",
       "      <th></th>\n",
       "      <th></th>\n",
       "      <th></th>\n",
       "      <th></th>\n",
       "      <th></th>\n",
       "      <th></th>\n",
       "      <th></th>\n",
       "      <th></th>\n",
       "      <th></th>\n",
       "      <th></th>\n",
       "      <th></th>\n",
       "      <th></th>\n",
       "      <th></th>\n",
       "    </tr>\n",
       "  </thead>\n",
       "  <tbody>\n",
       "    <tr>\n",
       "      <th>2018-01-03</th>\n",
       "      <td>48.112157</td>\n",
       "      <td>0.000000</td>\n",
       "      <td>0.000000</td>\n",
       "      <td>3.883783</td>\n",
       "      <td>193.140774</td>\n",
       "      <td>113.665250</td>\n",
       "      <td>87.072110</td>\n",
       "      <td>4.949791</td>\n",
       "      <td>15.761076</td>\n",
       "      <td>47.239316</td>\n",
       "      <td>...</td>\n",
       "      <td>45.727617</td>\n",
       "      <td>0.916126</td>\n",
       "      <td>0.000000</td>\n",
       "      <td>4.085868</td>\n",
       "      <td>164.094190</td>\n",
       "      <td>96.566326</td>\n",
       "      <td>78.387204</td>\n",
       "      <td>5.195563</td>\n",
       "      <td>16.064507</td>\n",
       "      <td>3.912685</td>\n",
       "    </tr>\n",
       "    <tr>\n",
       "      <th>2018-01-04</th>\n",
       "      <td>49.869415</td>\n",
       "      <td>2.681982</td>\n",
       "      <td>0.000000</td>\n",
       "      <td>3.912685</td>\n",
       "      <td>184.679417</td>\n",
       "      <td>118.076269</td>\n",
       "      <td>90.388552</td>\n",
       "      <td>4.961430</td>\n",
       "      <td>16.897601</td>\n",
       "      <td>48.112157</td>\n",
       "      <td>...</td>\n",
       "      <td>47.239316</td>\n",
       "      <td>0.000000</td>\n",
       "      <td>0.000000</td>\n",
       "      <td>3.942272</td>\n",
       "      <td>181.728099</td>\n",
       "      <td>112.688852</td>\n",
       "      <td>84.923583</td>\n",
       "      <td>5.017492</td>\n",
       "      <td>15.573998</td>\n",
       "      <td>3.389542</td>\n",
       "    </tr>\n",
       "    <tr>\n",
       "      <th>2018-01-05</th>\n",
       "      <td>37.037886</td>\n",
       "      <td>19.499752</td>\n",
       "      <td>8.569013</td>\n",
       "      <td>3.389542</td>\n",
       "      <td>211.898758</td>\n",
       "      <td>125.748680</td>\n",
       "      <td>91.432063</td>\n",
       "      <td>4.431274</td>\n",
       "      <td>17.123912</td>\n",
       "      <td>49.869415</td>\n",
       "      <td>...</td>\n",
       "      <td>48.112157</td>\n",
       "      <td>0.000000</td>\n",
       "      <td>0.000000</td>\n",
       "      <td>3.883783</td>\n",
       "      <td>193.140774</td>\n",
       "      <td>113.665250</td>\n",
       "      <td>87.072110</td>\n",
       "      <td>4.949791</td>\n",
       "      <td>15.761076</td>\n",
       "      <td>3.787355</td>\n",
       "    </tr>\n",
       "    <tr>\n",
       "      <th>2018-01-06</th>\n",
       "      <td>52.575690</td>\n",
       "      <td>0.000000</td>\n",
       "      <td>18.076194</td>\n",
       "      <td>3.787355</td>\n",
       "      <td>209.129580</td>\n",
       "      <td>107.606394</td>\n",
       "      <td>93.396580</td>\n",
       "      <td>4.823002</td>\n",
       "      <td>20.695101</td>\n",
       "      <td>37.037886</td>\n",
       "      <td>...</td>\n",
       "      <td>49.869415</td>\n",
       "      <td>2.681982</td>\n",
       "      <td>0.000000</td>\n",
       "      <td>3.912685</td>\n",
       "      <td>184.679417</td>\n",
       "      <td>118.076269</td>\n",
       "      <td>90.388552</td>\n",
       "      <td>4.961430</td>\n",
       "      <td>16.897601</td>\n",
       "      <td>4.002495</td>\n",
       "    </tr>\n",
       "    <tr>\n",
       "      <th>2018-01-07</th>\n",
       "      <td>48.340235</td>\n",
       "      <td>0.000000</td>\n",
       "      <td>5.761071</td>\n",
       "      <td>4.002495</td>\n",
       "      <td>195.953294</td>\n",
       "      <td>94.778895</td>\n",
       "      <td>81.376922</td>\n",
       "      <td>5.109281</td>\n",
       "      <td>17.836842</td>\n",
       "      <td>52.575690</td>\n",
       "      <td>...</td>\n",
       "      <td>37.037886</td>\n",
       "      <td>19.499752</td>\n",
       "      <td>8.569013</td>\n",
       "      <td>3.389542</td>\n",
       "      <td>211.898758</td>\n",
       "      <td>125.748680</td>\n",
       "      <td>91.432063</td>\n",
       "      <td>4.431274</td>\n",
       "      <td>17.123912</td>\n",
       "      <td>3.945957</td>\n",
       "    </tr>\n",
       "  </tbody>\n",
       "</table>\n",
       "<p>5 rows × 28 columns</p>\n",
       "</div>"
      ],
      "text/plain": [
       "            FREQUENCIA BOMBA 1  FREQUENCIA BOMBA 2  FREQUENCIA BOMBA 3  \\\n",
       "Timestamp                                                                \n",
       "2018-01-03           48.112157            0.000000            0.000000   \n",
       "2018-01-04           49.869415            2.681982            0.000000   \n",
       "2018-01-05           37.037886           19.499752            8.569013   \n",
       "2018-01-06           52.575690            0.000000           18.076194   \n",
       "2018-01-07           48.340235            0.000000            5.761071   \n",
       "\n",
       "            NIVEL DO RESERVATÓRIO - LT01  VAZÃO DE ENTRADA- FT01  \\\n",
       "Timestamp                                                          \n",
       "2018-01-03                      3.883783              193.140774   \n",
       "2018-01-04                      3.912685              184.679417   \n",
       "2018-01-05                      3.389542              211.898758   \n",
       "2018-01-06                      3.787355              209.129580   \n",
       "2018-01-07                      4.002495              195.953294   \n",
       "\n",
       "            VAZÃO DE GRAVIDADE - FT02  VAZÃO DE RECALQUE - FT03  \\\n",
       "Timestamp                                                         \n",
       "2018-01-03                 113.665250                 87.072110   \n",
       "2018-01-04                 118.076269                 90.388552   \n",
       "2018-01-05                 125.748680                 91.432063   \n",
       "2018-01-06                 107.606394                 93.396580   \n",
       "2018-01-07                  94.778895                 81.376922   \n",
       "\n",
       "            PRESSÃO DE SUCÇÃO - PT01  PRESSÃO DE RECALQUE - PT02  \\\n",
       "Timestamp                                                          \n",
       "2018-01-03                  4.949791                   15.761076   \n",
       "2018-01-04                  4.961430                   16.897601   \n",
       "2018-01-05                  4.431274                   17.123912   \n",
       "2018-01-06                  4.823002                   20.695101   \n",
       "2018-01-07                  5.109281                   17.836842   \n",
       "\n",
       "            FREQUENCIA BOMBA 1_t-1  ...  FREQUENCIA BOMBA 1_t-2  \\\n",
       "Timestamp                           ...                           \n",
       "2018-01-03               47.239316  ...               45.727617   \n",
       "2018-01-04               48.112157  ...               47.239316   \n",
       "2018-01-05               49.869415  ...               48.112157   \n",
       "2018-01-06               37.037886  ...               49.869415   \n",
       "2018-01-07               52.575690  ...               37.037886   \n",
       "\n",
       "            FREQUENCIA BOMBA 2_t-2  FREQUENCIA BOMBA 3_t-2  \\\n",
       "Timestamp                                                    \n",
       "2018-01-03                0.916126                0.000000   \n",
       "2018-01-04                0.000000                0.000000   \n",
       "2018-01-05                0.000000                0.000000   \n",
       "2018-01-06                2.681982                0.000000   \n",
       "2018-01-07               19.499752                8.569013   \n",
       "\n",
       "            NIVEL DO RESERVATÓRIO - LT01_t-2  VAZÃO DE ENTRADA- FT01_t-2  \\\n",
       "Timestamp                                                                  \n",
       "2018-01-03                          4.085868                  164.094190   \n",
       "2018-01-04                          3.942272                  181.728099   \n",
       "2018-01-05                          3.883783                  193.140774   \n",
       "2018-01-06                          3.912685                  184.679417   \n",
       "2018-01-07                          3.389542                  211.898758   \n",
       "\n",
       "            VAZÃO DE GRAVIDADE - FT02_t-2  VAZÃO DE RECALQUE - FT03_t-2  \\\n",
       "Timestamp                                                                 \n",
       "2018-01-03                      96.566326                     78.387204   \n",
       "2018-01-04                     112.688852                     84.923583   \n",
       "2018-01-05                     113.665250                     87.072110   \n",
       "2018-01-06                     118.076269                     90.388552   \n",
       "2018-01-07                     125.748680                     91.432063   \n",
       "\n",
       "            PRESSÃO DE SUCÇÃO - PT01_t-2  PRESSÃO DE RECALQUE - PT02_t-2  \\\n",
       "Timestamp                                                                  \n",
       "2018-01-03                      5.195563                       16.064507   \n",
       "2018-01-04                      5.017492                       15.573998   \n",
       "2018-01-05                      4.949791                       15.761076   \n",
       "2018-01-06                      4.961430                       16.897601   \n",
       "2018-01-07                      4.431274                       17.123912   \n",
       "\n",
       "                   y  \n",
       "Timestamp             \n",
       "2018-01-03  3.912685  \n",
       "2018-01-04  3.389542  \n",
       "2018-01-05  3.787355  \n",
       "2018-01-06  4.002495  \n",
       "2018-01-07  3.945957  \n",
       "\n",
       "[5 rows x 28 columns]"
      ]
     },
     "execution_count": 6,
     "metadata": {},
     "output_type": "execute_result"
    }
   ],
   "source": [
    "df['y'] = df['NIVEL DO RESERVATÓRIO - LT01'].shift(-steps_ahead1)\n",
    "df.dropna(axis=0, inplace=True)\n",
    "df.head()"
   ]
  },
  {
   "cell_type": "code",
   "execution_count": 7,
   "metadata": {},
   "outputs": [],
   "source": [
    "df_train = df.iloc[:-test_size, :]\n",
    "df_test = df.iloc[-test_size:, :]"
   ]
  },
  {
   "cell_type": "code",
   "execution_count": 8,
   "metadata": {},
   "outputs": [],
   "source": [
    "X_train = df_train.drop(['y'], axis=1)\n",
    "y_train = df_train['y']\n",
    "X_test = df_test.drop(['y'], axis=1)\n",
    "y_test = df_test['y']"
   ]
  },
  {
   "cell_type": "code",
   "execution_count": 9,
   "metadata": {},
   "outputs": [],
   "source": [
    "from sklearn.ensemble import RandomForestRegressor\n",
    "from xgboost import XGBRegressor"
   ]
  },
  {
   "cell_type": "code",
   "execution_count": 10,
   "metadata": {},
   "outputs": [],
   "source": [
    "model = XGBRegressor(\n",
    "    random_state=0,\n",
    "    learning_rate=0.08,\n",
    "    n_estimators=1300,\n",
    "    max_depth=6,\n",
    "    min_child_weight=14,\n",
    "    subsample=0.75,\n",
    "    colsample_bytree=0.5,\n",
    "    objective='reg:squarederror',\n",
    "    booster='gbtree'\n",
    "    )"
   ]
  },
  {
   "cell_type": "code",
   "execution_count": 11,
   "metadata": {},
   "outputs": [
    {
     "data": {
      "text/plain": [
       "XGBRegressor(base_score=0.5, booster='gbtree', callbacks=None,\n",
       "             colsample_bylevel=1, colsample_bynode=1, colsample_bytree=0.5,\n",
       "             early_stopping_rounds=None, enable_categorical=False,\n",
       "             eval_metric=None, gamma=0, gpu_id=-1, grow_policy='depthwise',\n",
       "             importance_type=None, interaction_constraints='',\n",
       "             learning_rate=0.08, max_bin=256, max_cat_to_onehot=4,\n",
       "             max_delta_step=0, max_depth=6, max_leaves=0, min_child_weight=14,\n",
       "             missing=nan, monotone_constraints='()', n_estimators=1300,\n",
       "             n_jobs=0, num_parallel_tree=1, predictor='auto', random_state=0,\n",
       "             reg_alpha=0, reg_lambda=1, ...)"
      ]
     },
     "execution_count": 11,
     "metadata": {},
     "output_type": "execute_result"
    }
   ],
   "source": [
    "model.fit(X_train, y_train)"
   ]
  },
  {
   "cell_type": "code",
   "execution_count": 12,
   "metadata": {},
   "outputs": [],
   "source": [
    "y_hat_train = model.predict(X_train)\n",
    "y_hat_test = model.predict(X_test)"
   ]
  },
  {
   "cell_type": "code",
   "execution_count": 13,
   "metadata": {},
   "outputs": [
    {
     "data": {
      "text/plain": [
       "[<matplotlib.lines.Line2D at 0x24dde79ca00>]"
      ]
     },
     "execution_count": 13,
     "metadata": {},
     "output_type": "execute_result"
    },
    {
     "data": {
      "image/png": "[encoded data removed]",
      "text/plain": [
       "<Figure size 432x288 with 1 Axes>"
      ]
     },
     "metadata": {
      "needs_background": "light"
     },
     "output_type": "display_data"
    }
   ],
   "source": [
    "import matplotlib.pyplot as plt\n",
    "plt.plot(y_train.values, label='y_train')\n",
    "plt.plot(y_hat_train, label='y_hat_train')"
   ]
  },
  {
   "cell_type": "code",
   "execution_count": 14,
   "metadata": {},
   "outputs": [],
   "source": [
    "from sklearn.metrics import mean_squared_error\n",
    "from sklearn.metrics import r2_score\n",
    "from sklearn.metrics import mean_squared_log_error, mean_absolute_error, mean_squared_error, r2_score"
   ]
  },
  {
   "cell_type": "code",
   "execution_count": 15,
   "metadata": {},
   "outputs": [],
   "source": [
    "mse_train = mean_squared_error(y_train, y_hat_train)\n",
    "mse_test = mean_squared_error(y_test, y_hat_test)\n",
    "rmse_train=np.sqrt(mean_squared_error(y_train, y_hat_train))\n",
    "rmse_test=np.sqrt(mean_squared_error(y_test, y_hat_test))\n",
    "mae_train=mean_absolute_error(y_train, y_hat_train)\n",
    "mae_test=mean_absolute_error(y_test, y_hat_test)\n",
    "mape_train = int((np.mean(np.abs((y_train - y_hat_train) / y_train)) * 100))\n",
    "mape_test = int((np.mean(np.abs((y_test - y_hat_test) / y_test)) * 100))\n",
    "r2_train = r2_score(y_train, y_hat_train)\n",
    "r2_test = r2_score(y_test, y_hat_test)"
   ]
  },
  {
   "cell_type": "code",
   "execution_count": 16,
   "metadata": {},
   "outputs": [
    {
     "name": "stdout",
     "output_type": "stream",
     "text": [
      "MSE train: 0.000, MSE test: 0.164\n",
      "MAPE train: 0.000, MAPE test: 9.000\n",
      "MAE train: 0.000, MAE test: 0.327\n",
      "RMSE train: 0.001, RMSE test: 0.405\n",
      "R2 train: 1.000, R2 test: 0.316\n"
     ]
    }
   ],
   "source": [
    "print('MSE train: %.3f, MSE test: %.3f' % (mse_train, mse_test))\n",
    "print('MAPE train: %.3f, MAPE test: %.3f' % (mape_train, mape_test))\n",
    "print('MAE train: %.3f, MAE test: %.3f' % (mae_train, mae_test))\n",
    "print('RMSE train: %.3f, RMSE test: %.3f' % (rmse_train, rmse_test))\n",
    "print('R2 train: %.3f, R2 test: %.3f' % (r2_train, r2_test))"
   ]
  },
  {
   "cell_type": "code",
   "execution_count": null,
   "metadata": {},
   "outputs": [],
   "source": [
    "## 7 passos à frente\n",
    "test_size = int(df.shape[0] * 0.3)\n",
    "steps_ahead7 = 7\n",
    "lags = 3"
   ]
  },
  {
   "cell_type": "code",
   "execution_count": null,
   "metadata": {},
   "outputs": [],
   "source": [
    "colunas7 = df.columns\n",
    "\n",
    "for lag in range(1, lags):\n",
    "    for column in colunas7:\n",
    "        df[column + '_t-' + str(lag)] = df[column].shift(lag)"
   ]
  },
  {
   "cell_type": "code",
   "execution_count": null,
   "metadata": {},
   "outputs": [],
   "source": [
    "df['y'] = df['NIVEL DO RESERVATÓRIO - LT01'].shift(-steps_ahead7)\n",
    "df.dropna(axis=0, inplace=True)\n",
    "df.head()"
   ]
  },
  {
   "cell_type": "code",
   "execution_count": null,
   "metadata": {},
   "outputs": [],
   "source": [
    "df_train7 = df.iloc[:-test_size, :]\n",
    "df_test7 = df.iloc[-test_size:, :]"
   ]
  },
  {
   "cell_type": "code",
   "execution_count": null,
   "metadata": {},
   "outputs": [],
   "source": [
    "X_train7 = df_train7.drop(['y'], axis=1)\n",
    "y_train7 = df_train7['y']\n",
    "X_test7 = df_test7.drop(['y'], axis=1)\n",
    "y_test7 = df_test7['y']"
   ]
  },
  {
   "cell_type": "code",
   "execution_count": null,
   "metadata": {},
   "outputs": [],
   "source": [
    "model7 = XGBRegressor(\n",
    "    random_state=0,\n",
    "    learning_rate=0.08,\n",
    "    n_estimators=1300,\n",
    "    max_depth=6,\n",
    "    min_child_weight=14,\n",
    "    subsample=0.75,\n",
    "    colsample_bytree=0.5,\n",
    "    objective='reg:squarederror',\n",
    "    booster='gbtree'\n",
    "    )"
   ]
  },
  {
   "cell_type": "code",
   "execution_count": null,
   "metadata": {},
   "outputs": [],
   "source": [
    "model7.fit(X_train7, y_train7)"
   ]
  },
  {
   "cell_type": "code",
   "execution_count": null,
   "metadata": {},
   "outputs": [],
   "source": [
    "y_hat_train7 = model7.predict(X_train7)\n",
    "y_hat_test7 = model7.predict(X_test7)"
   ]
  },
  {
   "cell_type": "code",
   "execution_count": null,
   "metadata": {},
   "outputs": [],
   "source": [
    "import matplotlib.pyplot as plt\n",
    "plt.plot(y_train7.values, label='y_train')\n",
    "plt.plot(y_hat_train7, label='y_hat_train')"
   ]
  },
  {
   "cell_type": "code",
   "execution_count": null,
   "metadata": {},
   "outputs": [],
   "source": [
    "mse_train7 = mean_squared_error(y_train7, y_hat_train7)\n",
    "mse_test7 = mean_squared_error(y_test7, y_hat_test7)\n",
    "rmse_train7=np.sqrt(mean_squared_error(y_train7, y_hat_train7))\n",
    "rmse_test7=np.sqrt(mean_squared_error(y_test7, y_hat_test7))\n",
    "mae_train7=mean_absolute_error(y_train7, y_hat_train7)\n",
    "mae_test7=mean_absolute_error(y_test7, y_hat_test7)\n",
    "mape_train7 = int((np.mean(np.abs((y_train7 - y_hat_train7) / y_train7)) * 100))\n",
    "mape_test7 = int((np.mean(np.abs((y_test7 - y_hat_test7) / y_test7)) * 100))\n",
    "r2_train7 = r2_score(y_train7, y_hat_train7)\n",
    "r2_test7 = r2_score(y_test7, y_hat_test7)"
   ]
  },
  {
   "cell_type": "code",
   "execution_count": null,
   "metadata": {},
   "outputs": [],
   "source": [
    "print('MSE train: %.3f, MSE test: %.3f' % (mse_train7, mse_test7))\n",
    "print('MAPE train: %.3f, MAPE test: %.3f' % (mape_train7, mape_test7))\n",
    "print('MAE train: %.3f, MAE test: %.3f' % (mae_train7, mae_test7))\n",
    "print('RMSE train: %.3f, RMSE test: %.3f' % (rmse_train7, rmse_test7))\n",
    "print('R2 train: %.3f, R2 test: %.3f' % (r2_train7, r2_test7))"
   ]
  },
  {
   "cell_type": "code",
   "execution_count": null,
   "metadata": {},
   "outputs": [],
   "source": [
    "# 14 passos à frente\n",
    "test_size = int(df.shape[0] * 0.3)\n",
    "steps_ahead14 = 14\n",
    "lags = 3"
   ]
  },
  {
   "cell_type": "code",
   "execution_count": null,
   "metadata": {},
   "outputs": [],
   "source": [
    "colunas14 = df.columns\n",
    "\n",
    "for lag in range(1, lags):\n",
    "    for column in colunas14:\n",
    "        df[column + '_t-' + str(lag)] = df[column].shift(lag)"
   ]
  },
  {
   "cell_type": "code",
   "execution_count": null,
   "metadata": {},
   "outputs": [],
   "source": [
    "df['y'] = df['NIVEL DO RESERVATÓRIO - LT01'].shift(-steps_ahead14)\n",
    "df.dropna(axis=0, inplace=True)\n",
    "df.head()"
   ]
  },
  {
   "cell_type": "code",
   "execution_count": null,
   "metadata": {},
   "outputs": [],
   "source": [
    "df_train14 = df.iloc[:-test_size, :]\n",
    "df_test14 = df.iloc[-test_size:, :]"
   ]
  },
  {
   "cell_type": "code",
   "execution_count": null,
   "metadata": {},
   "outputs": [],
   "source": [
    "X_train14 = df_train14.drop(['y'], axis=1)\n",
    "y_train14 = df_train14['y']\n",
    "X_test14 = df_test14.drop(['y'], axis=1)\n",
    "y_test14 = df_test14['y']"
   ]
  },
  {
   "cell_type": "code",
   "execution_count": null,
   "metadata": {},
   "outputs": [],
   "source": [
    "model14 = XGBRegressor(\n",
    "    random_state=0,\n",
    "    learning_rate=0.08,\n",
    "    n_estimators=1300,\n",
    "    max_depth=6,\n",
    "    min_child_weight=14,\n",
    "    subsample=0.75,\n",
    "    colsample_bytree=0.5,\n",
    "    objective='reg:squarederror',\n",
    "    booster='gbtree'\n",
    "    )"
   ]
  },
  {
   "cell_type": "code",
   "execution_count": null,
   "metadata": {},
   "outputs": [],
   "source": [
    "model14.fit(X_train14, y_train14)"
   ]
  },
  {
   "cell_type": "code",
   "execution_count": null,
   "metadata": {},
   "outputs": [],
   "source": [
    "y_hat_train14 = model14.predict(X_train14)\n",
    "y_hat_test14 = model14.predict(X_test14)"
   ]
  },
  {
   "cell_type": "code",
   "execution_count": null,
   "metadata": {},
   "outputs": [],
   "source": [
    "import matplotlib.pyplot as plt\n",
    "plt.plot(y_train14.values, label='y_train')\n",
    "plt.plot(y_hat_train14, label='y_hat_train')"
   ]
  },
  {
   "cell_type": "code",
   "execution_count": null,
   "metadata": {},
   "outputs": [],
   "source": [
    "mse_train14 = mean_squared_error(y_train14, y_hat_train14)\n",
    "mse_test14 = mean_squared_error(y_test14, y_hat_test14)\n",
    "rmse_train14=np.sqrt(mean_squared_error(y_train14, y_hat_train14))\n",
    "rmse_test14=np.sqrt(mean_squared_error(y_test14, y_hat_test14))\n",
    "mae_train14=mean_absolute_error(y_train14, y_hat_train14)\n",
    "mae_test14=mean_absolute_error(y_test14, y_hat_test14)\n",
    "mape_train14 = int((np.mean(np.abs((y_train14 - y_hat_train14) / y_train14)) * 100))\n",
    "mape_test14 = int((np.mean(np.abs((y_test14 - y_hat_test14) / y_test14)) * 100))\n",
    "r2_train14 = r2_score(y_train14, y_hat_train14)\n",
    "r2_test14 = r2_score(y_test14, y_hat_test14)"
   ]
  },
  {
   "cell_type": "code",
   "execution_count": null,
   "metadata": {},
   "outputs": [],
   "source": [
    "print('MSE train: %.3f, MSE test: %.3f' % (mse_train14, mse_test14))\n",
    "print('MAPE train: %.3f, MAPE test: %.3f' % (mape_train14, mape_test14))\n",
    "print('MAE train: %.3f, MAE test: %.3f' % (mae_train14, mae_test14))\n",
    "print('RMSE train: %.3f, RMSE test: %.3f' % (rmse_train14, rmse_test14))\n",
    "print('R2 train: %.3f, R2 test: %.3f' % (r2_train14, r2_test14))"
   ]
  },
  {
   "cell_type": "code",
   "execution_count": null,
   "metadata": {},
   "outputs": [],
   "source": [
    "## 30 passos à frente\n",
    "test_size = int(df.shape[0] * 0.3)\n",
    "steps_ahead30 = 30\n",
    "lags = 3"
   ]
  },
  {
   "cell_type": "code",
   "execution_count": null,
   "metadata": {},
   "outputs": [],
   "source": [
    "colunas30 = df.columns\n",
    "\n",
    "for lag in range(1, lags):\n",
    "    for column in colunas30:\n",
    "        df[column + '_t-' + str(lag)] = df[column].shift(lag)"
   ]
  },
  {
   "cell_type": "code",
   "execution_count": null,
   "metadata": {},
   "outputs": [],
   "source": [
    "df['y'] = df['NIVEL DO RESERVATÓRIO - LT01'].shift(-steps_ahead30)\n",
    "df.dropna(axis=0, inplace=True)\n",
    "df.head()"
   ]
  },
  {
   "cell_type": "code",
   "execution_count": null,
   "metadata": {},
   "outputs": [],
   "source": [
    "df_train30 = df.iloc[:-test_size, :]\n",
    "df_test30 = df.iloc[-test_size:, :]"
   ]
  },
  {
   "cell_type": "code",
   "execution_count": null,
   "metadata": {},
   "outputs": [],
   "source": [
    "X_train30 = df_train30.drop(['y'], axis=1)\n",
    "y_train30 = df_train30['y']\n",
    "X_test30 = df_test30.drop(['y'], axis=1)\n",
    "y_test30 = df_test30['y']"
   ]
  },
  {
   "cell_type": "code",
   "execution_count": null,
   "metadata": {},
   "outputs": [],
   "source": [
    "model30 = XGBRegressor(\n",
    "    random_state=0,\n",
    "    learning_rate=0.08,\n",
    "    n_estimators=1300,\n",
    "    max_depth=6,\n",
    "    min_child_weight=14,\n",
    "    subsample=0.75,\n",
    "    colsample_bytree=0.5,\n",
    "    objective='reg:squarederror',\n",
    "    booster='gbtree'\n",
    "    )"
   ]
  },
  {
   "cell_type": "code",
   "execution_count": null,
   "metadata": {},
   "outputs": [],
   "source": [
    "model30.fit(X_train30, y_train30)"
   ]
  },
  {
   "cell_type": "code",
   "execution_count": null,
   "metadata": {},
   "outputs": [],
   "source": [
    "y_hat_train30 = model30.predict(X_train30)\n",
    "y_hat_test30 = model30.predict(X_test30)"
   ]
  },
  {
   "cell_type": "code",
   "execution_count": null,
   "metadata": {},
   "outputs": [],
   "source": [
    "import matplotlib.pyplot as plt\n",
    "plt.plot(y_train30.values, label='y_train')\n",
    "plt.plot(y_hat_train30, label='y_hat_train')"
   ]
  },
  {
   "cell_type": "code",
   "execution_count": null,
   "metadata": {},
   "outputs": [],
   "source": [
    "mse_train30 = mean_squared_error(y_train30, y_hat_train30)\n",
    "mse_test30 = mean_squared_error(y_test30, y_hat_test30)\n",
    "rmse_train30=np.sqrt(mean_squared_error(y_train30, y_hat_train30))\n",
    "rmse_test30=np.sqrt(mean_squared_error(y_test30, y_hat_test30))\n",
    "mae_train30=mean_absolute_error(y_train30, y_hat_train30)\n",
    "mae_test30=mean_absolute_error(y_test30, y_hat_test30)\n",
    "mape_train30 = int((np.mean(np.abs((y_train30 - y_hat_train30) / y_train30)) * 100))\n",
    "mape_test30 = int((np.mean(np.abs((y_test30- y_hat_test30) / y_test30)) * 100))\n",
    "r2_train30 = r2_score(y_train30, y_hat_train30)\n",
    "r2_test30 = r2_score(y_test30, y_hat_test30)"
   ]
  },
  {
   "cell_type": "code",
   "execution_count": null,
   "metadata": {},
   "outputs": [],
   "source": [
    "print('MSE train: %.3f, MSE test: %.3f' % (mse_train30, mse_test30))\n",
    "print('MAPE train: %.3f, MAPE test: %.3f' % (mape_train30, mape_test30))\n",
    "print('MAE train: %.3f, MAE test: %.3f' % (mae_train30, mae_test30))\n",
    "print('RMSE train: %.3f, RMSE test: %.3f' % (rmse_train30, rmse_test30))\n",
    "print('R2 train: %.3f, R2 test: %.3f' % (r2_train30, r2_test30))"
   ]
  },
  {
   "cell_type": "code",
   "execution_count": null,
   "metadata": {},
   "outputs": [],
   "source": [
    "df_train.head()"
   ]
  },
  {
   "cell_type": "code",
   "execution_count": null,
   "metadata": {},
   "outputs": [],
   "source": [
    "df_train7.head()"
   ]
  },
  {
   "cell_type": "code",
   "execution_count": null,
   "metadata": {},
   "outputs": [],
   "source": [
    "## Gráfico comparando o horizonte de previsão no X-gboost\n",
    "\n",
    "plt.figure(figsize=(10,6))\n",
    "plt.plot(y_train.values, label='y_train', color='blue')\n",
    "plt.plot(y_hat_train, label='y_hat_train',color='black')\n",
    "plt.plot(y_hat_train7, label='y_hat_train', color='green')\n",
    "plt.plot(y_hat_train14, label='y_hat_train',color='red')\n",
    "plt.plot(y_hat_train30, label='y_hat_train',color='grey')\n",
    "plt.legend(['Série original','1 passo à frente','7 passos à frente','14 passos à frente','30 passos à frente'])"
   ]
  },
  {
   "cell_type": "code",
   "execution_count": null,
   "metadata": {},
   "outputs": [],
   "source": [
    "## Gráfico comparando o horizonte de previsão no X-gboost\n",
    "\n",
    "plt.figure(figsize=(10,6))\n",
    "plt.plot(y_test.values, label='y_train', color='blue')\n",
    "plt.plot(y_hat_test, label='y_hat_train',color='black')\n",
    "plt.plot(y_hat_test7, label='y_hat_train', color='green')\n",
    "plt.plot(y_hat_test14, label='y_hat_train',color='red')\n",
    "plt.plot(y_hat_test30, label='y_hat_train',color='grey')\n",
    "plt.legend(['Série original','1 passo à frente','7 passos à frente','14 passos à frente','30 passos à frente'])"
   ]
  },
  {
   "cell_type": "code",
   "execution_count": null,
   "metadata": {},
   "outputs": [],
   "source": []
  }
 ],
 "metadata": {
  "kernelspec": {
   "display_name": "Python 3",
   "language": "python",
   "name": "python3"
  },
  "language_info": {
   "codemirror_mode": {
    "name": "ipython",
    "version": 3
   },
   "file_extension": ".py",
   "mimetype": "text/x-python",
   "name": "python",
   "nbconvert_exporter": "python",
   "pygments_lexer": "ipython3",
   "version": "3.8.5"
  }
 },
 "nbformat": 4,
 "nbformat_minor": 4
}
